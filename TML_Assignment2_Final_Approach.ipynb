{
  "cells": [
    {
      "cell_type": "markdown",
      "metadata": {
        "id": "T2oNKF62znIN"
      },
      "source": [
        "This notebook implements a Model Stealing Attack against a protected (by B4B) self supervised learning model based on [Assignment 2](https://github.com/sprintml/tml_2024/blob/main/Assignment2.pdf) of course on Trustworthy Machine Learning offered during Summer Semester 2024. All the files generated during the execution of this notebook can be accessed [here](https://drive.google.com/drive/folders/1C9q3yRpl7RiF93EWPxDFSE5YODyCR1L5?usp=sharing)"
      ]
    },
    {
      "cell_type": "code",
      "execution_count": null,
      "metadata": {
        "colab": {
          "base_uri": "https://localhost:8080/"
        },
        "id": "Vvi8ROFaeXTn",
        "outputId": "cbff9dc0-b95f-4694-eb6d-a087b1bc95cb"
      },
      "outputs": [
        {
          "output_type": "stream",
          "name": "stdout",
          "text": [
            "Collecting onnx\n",
            "  Downloading onnx-1.16.1-cp310-cp310-manylinux_2_17_x86_64.manylinux2014_x86_64.whl (15.9 MB)\n",
            "\u001b[2K     \u001b[90m━━━━━━━━━━━━━━━━━━━━━━━━━━━━━━━━━━━━━━━━\u001b[0m \u001b[32m15.9/15.9 MB\u001b[0m \u001b[31m48.7 MB/s\u001b[0m eta \u001b[36m0:00:00\u001b[0m\n",
            "\u001b[?25hRequirement already satisfied: numpy>=1.20 in /usr/local/lib/python3.10/dist-packages (from onnx) (1.25.2)\n",
            "Requirement already satisfied: protobuf>=3.20.2 in /usr/local/lib/python3.10/dist-packages (from onnx) (3.20.3)\n",
            "Installing collected packages: onnx\n",
            "Successfully installed onnx-1.16.1\n",
            "Collecting onnxruntime\n",
            "  Downloading onnxruntime-1.18.0-cp310-cp310-manylinux_2_27_x86_64.manylinux_2_28_x86_64.whl (6.8 MB)\n",
            "\u001b[2K     \u001b[90m━━━━━━━━━━━━━━━━━━━━━━━━━━━━━━━━━━━━━━━━\u001b[0m \u001b[32m6.8/6.8 MB\u001b[0m \u001b[31m18.0 MB/s\u001b[0m eta \u001b[36m0:00:00\u001b[0m\n",
            "\u001b[?25hCollecting coloredlogs (from onnxruntime)\n",
            "  Downloading coloredlogs-15.0.1-py2.py3-none-any.whl (46 kB)\n",
            "\u001b[2K     \u001b[90m━━━━━━━━━━━━━━━━━━━━━━━━━━━━━━━━━━━━━━━━\u001b[0m \u001b[32m46.0/46.0 kB\u001b[0m \u001b[31m2.4 MB/s\u001b[0m eta \u001b[36m0:00:00\u001b[0m\n",
            "\u001b[?25hRequirement already satisfied: flatbuffers in /usr/local/lib/python3.10/dist-packages (from onnxruntime) (24.3.25)\n",
            "Requirement already satisfied: numpy>=1.21.6 in /usr/local/lib/python3.10/dist-packages (from onnxruntime) (1.25.2)\n",
            "Requirement already satisfied: packaging in /usr/local/lib/python3.10/dist-packages (from onnxruntime) (24.0)\n",
            "Requirement already satisfied: protobuf in /usr/local/lib/python3.10/dist-packages (from onnxruntime) (3.20.3)\n",
            "Requirement already satisfied: sympy in /usr/local/lib/python3.10/dist-packages (from onnxruntime) (1.12.1)\n",
            "Collecting humanfriendly>=9.1 (from coloredlogs->onnxruntime)\n",
            "  Downloading humanfriendly-10.0-py2.py3-none-any.whl (86 kB)\n",
            "\u001b[2K     \u001b[90m━━━━━━━━━━━━━━━━━━━━━━━━━━━━━━━━━━━━━━━━\u001b[0m \u001b[32m86.8/86.8 kB\u001b[0m \u001b[31m8.5 MB/s\u001b[0m eta \u001b[36m0:00:00\u001b[0m\n",
            "\u001b[?25hRequirement already satisfied: mpmath<1.4.0,>=1.1.0 in /usr/local/lib/python3.10/dist-packages (from sympy->onnxruntime) (1.3.0)\n",
            "Installing collected packages: humanfriendly, coloredlogs, onnxruntime\n",
            "Successfully installed coloredlogs-15.0.1 humanfriendly-10.0 onnxruntime-1.18.0\n"
          ]
        }
      ],
      "source": [
        "!pip install onnx\n",
        "!pip install onnxruntime"
      ]
    },
    {
      "cell_type": "code",
      "execution_count": null,
      "metadata": {
        "id": "iVANkPm4eb3o"
      },
      "outputs": [],
      "source": [
        "import torch\n",
        "import torchvision.transforms as transforms\n",
        "import numpy as np\n",
        "from PIL import Image\n",
        "import requests\n",
        "from torch.utils.data import DataLoader, Subset\n",
        "import matplotlib.pyplot as plt\n",
        "import torch.optim as optim\n",
        "from torchvision.transforms import ToPILImage\n",
        "import torch.nn.functional as F"
      ]
    },
    {
      "cell_type": "code",
      "execution_count": null,
      "metadata": {
        "colab": {
          "base_uri": "https://localhost:8080/"
        },
        "id": "0_FH9TqEeemO",
        "outputId": "d6aeaa73-38d5-4fa3-8662-4f1c26a3b6ca"
      },
      "outputs": [
        {
          "output_type": "stream",
          "name": "stdout",
          "text": [
            "cwd:  /content\n"
          ]
        }
      ],
      "source": [
        "import requests\n",
        "import torch\n",
        "import torch.nn as nn\n",
        "import onnxruntime as ort\n",
        "import numpy as np\n",
        "import json\n",
        "import io\n",
        "import sys\n",
        "import base64\n",
        "from torch.utils.data import Dataset\n",
        "from typing import Tuple\n",
        "import pickle\n",
        "import os\n",
        "\n",
        "cwd = os.getcwd()\n",
        "print('cwd: ', cwd)\n",
        "\n",
        "class TaskDataset(Dataset):\n",
        "    def __init__(self, transform=None):\n",
        "\n",
        "        self.ids = []\n",
        "        self.imgs = []\n",
        "        self.labels = []\n",
        "\n",
        "        self.transform = transform\n",
        "\n",
        "    def __getitem__(self, index) -> Tuple[int, torch.Tensor, int]:\n",
        "        id_ = self.ids[index]\n",
        "        img = self.imgs[index]\n",
        "        if not self.transform is None:\n",
        "            img = self.transform(img)\n",
        "        label = self.labels[index]\n",
        "        return id_, img, label\n",
        "\n",
        "    def __len__(self):\n",
        "        return len(self.ids)"
      ]
    },
    {
      "cell_type": "code",
      "execution_count": null,
      "metadata": {
        "id": "lQcW_ipweklO"
      },
      "outputs": [],
      "source": [
        "device = torch.device('cuda' if torch.cuda.is_available() else 'cpu')"
      ]
    },
    {
      "cell_type": "markdown",
      "metadata": {
        "id": "PqDcBl9wzt3Z"
      },
      "source": [
        "Loading [dataset](https://drive.google.com/file/d/1nGzKrLOrb2w5E2ZZPySRQz0WxN77DTmL/view) and applying transforms"
      ]
    },
    {
      "cell_type": "code",
      "execution_count": null,
      "metadata": {
        "id": "uagVBrEremrS"
      },
      "outputs": [],
      "source": [
        "data: TaskDataset = torch.load(\"/content/ModelStealingPub.pt\")"
      ]
    },
    {
      "cell_type": "code",
      "execution_count": null,
      "metadata": {
        "id": "KFU-yykKfGFO"
      },
      "outputs": [],
      "source": [
        "mean = [0.2980, 0.2962, 0.2987]\n",
        "std = [0.2886, 0.2875, 0.2889]"
      ]
    },
    {
      "cell_type": "code",
      "execution_count": null,
      "metadata": {
        "id": "GUVxQeKzfJXa"
      },
      "outputs": [],
      "source": [
        "transform = transforms.Compose(\n",
        "    [\n",
        "        # some grayscale images in the provided dataset are converted to RGB using below transform\n",
        "        transforms.Lambda(lambda x: x.convert(\"RGB\")),\n",
        "        transforms.ToTensor(),\n",
        "        transforms.Normalize(mean=mean, std=std),\n",
        "    ]\n",
        ")"
      ]
    },
    {
      "cell_type": "code",
      "execution_count": null,
      "metadata": {
        "id": "UoC4FAn1fJiP"
      },
      "outputs": [],
      "source": [
        "data.transform = transform"
      ]
    },
    {
      "cell_type": "markdown",
      "metadata": {
        "id": "QNVLitrOz26b"
      },
      "source": [
        "Applying two transformations to the original dataset - Random Horizontal Flip and Grayscale transformation"
      ]
    },
    {
      "cell_type": "code",
      "execution_count": null,
      "metadata": {
        "id": "-VaXUYuufNxZ"
      },
      "outputs": [],
      "source": [
        "transform_augmented1 = transforms.Compose(\n",
        "    [\n",
        "        transforms.Lambda(lambda x: x.convert(\"RGB\")),\n",
        "        transforms.ToTensor(),\n",
        "        transforms.Normalize(mean=mean, std=std),\n",
        "        transforms.RandomHorizontalFlip(p=1.0)\n",
        "    ]\n",
        ")"
      ]
    },
    {
      "cell_type": "code",
      "execution_count": null,
      "metadata": {
        "id": "v5rw9Tqsfk6p"
      },
      "outputs": [],
      "source": [
        "transform_augmented2 = transforms.Compose(\n",
        "    [\n",
        "        transforms.Lambda(lambda x: x.convert(\"RGB\")),\n",
        "        transforms.ToTensor(),\n",
        "        transforms.Normalize(mean=mean, std=std),\n",
        "        transforms.Grayscale(num_output_channels=3)\n",
        "    ]\n",
        ")"
      ]
    },
    {
      "cell_type": "markdown",
      "metadata": {
        "id": "puWAnAtj20aA"
      },
      "source": [
        "**Creating augmented datasets from the training dataset**\n",
        "- We perform augmentations considering the fact that augmented versions of an image return similar representations."
      ]
    },
    {
      "cell_type": "code",
      "execution_count": null,
      "metadata": {
        "id": "J2mbH4TFfxbC"
      },
      "outputs": [],
      "source": [
        "class HorizontalFlipDataset(TaskDataset):\n",
        "    def __init__(self, original_dataset, transform=None):\n",
        "        super().__init__(transform=transform_augmented1)\n",
        "        self.ids = original_dataset.ids\n",
        "        self.imgs = original_dataset.imgs\n",
        "        self.labels = original_dataset.labels\n",
        "\n",
        "class GrayscaleDataset(TaskDataset):\n",
        "    def __init__(self, original_dataset, transform=None):\n",
        "        super().__init__(transform=transform_augmented2)\n",
        "        self.ids = original_dataset.ids\n",
        "        self.imgs = original_dataset.imgs\n",
        "        self.labels = original_dataset.labels"
      ]
    },
    {
      "cell_type": "code",
      "execution_count": null,
      "metadata": {
        "id": "N7O8yKI6f6kR"
      },
      "outputs": [],
      "source": [
        "horizontal_flip_dataset = HorizontalFlipDataset(data, transform_augmented1)\n",
        "grayscale_dataset = GrayscaleDataset(data, transform_augmented2)"
      ]
    },
    {
      "cell_type": "markdown",
      "source": [
        "Applying horizontal flipping and grayscale transformations to every image in the respective datasets"
      ],
      "metadata": {
        "id": "2zNq6dc6WrAI"
      }
    },
    {
      "cell_type": "code",
      "execution_count": null,
      "metadata": {
        "id": "tLymrHnkny6g"
      },
      "outputs": [],
      "source": [
        "flip = transforms.RandomHorizontalFlip(p=1.0)\n",
        "\n",
        "def flip_images(orig_images):\n",
        "    return [flip(img) for img in orig_images]\n",
        "\n",
        "orig_images = [horizontal_flip_dataset.imgs[idx] for idx in range(len(data))]\n",
        "horizontal_flip_dataset.imgs = flip_images(orig_images)"
      ]
    },
    {
      "cell_type": "code",
      "execution_count": null,
      "metadata": {
        "id": "m_ATC3Trn4ab"
      },
      "outputs": [],
      "source": [
        "convert_to_grayscale = transforms.Grayscale(num_output_channels=3)\n",
        "\n",
        "def convert_to_grayscale_images(orig_images):\n",
        "    return [convert_to_grayscale(img) for img in orig_images]\n",
        "\n",
        "orig_images1 = [grayscale_dataset.imgs[idx] for idx in range(len(grayscale_dataset))]\n",
        "grayscale_dataset.imgs = convert_to_grayscale_images(orig_images1)"
      ]
    },
    {
      "cell_type": "code",
      "execution_count": null,
      "metadata": {
        "id": "4Qa3bBJihBgq"
      },
      "outputs": [],
      "source": [
        "# converting images to image tensors for further visualization\n",
        "\n",
        "to_tensor = transforms.ToTensor()\n",
        "\n",
        "def convert_images_to_tensors(pil_images):\n",
        "    return [to_tensor(img) for img in pil_images]\n",
        "\n",
        "pil_images = [data.imgs[idx] for idx in range(len(data))]\n",
        "pil_images_flip = [horizontal_flip_dataset.imgs[idx] for idx in range(len(horizontal_flip_dataset))]\n",
        "pil_images_grayscale = [grayscale_dataset.imgs[idx] for idx in range(len(grayscale_dataset))]\n",
        "\n",
        "data.imgs = convert_images_to_tensors(pil_images)\n",
        "horizontal_flip_dataset.imgs = convert_images_to_tensors(pil_images_flip)\n",
        "grayscale_dataset.imgs = convert_images_to_tensors(pil_images_grayscale)"
      ]
    },
    {
      "cell_type": "markdown",
      "metadata": {
        "id": "NI_4jFvb0Vbz"
      },
      "source": [
        "Verifying that the transformations have been correctly applied to the original dataset by visualizing some images in the dataset"
      ]
    },
    {
      "cell_type": "code",
      "execution_count": null,
      "metadata": {
        "id": "S6wSn-xaf81p"
      },
      "outputs": [],
      "source": [
        "def show_images(images, n=5):\n",
        "    plt.figure(figsize=(15, 15))\n",
        "    for i in range(n):\n",
        "        ax = plt.subplot(1, n, i + 1)\n",
        "        img = images[i].permute(1, 2, 0)\n",
        "        plt.imshow(img)\n",
        "        plt.axis(\"off\")\n",
        "    plt.show()"
      ]
    },
    {
      "cell_type": "code",
      "execution_count": null,
      "metadata": {
        "colab": {
          "base_uri": "https://localhost:8080/",
          "height": 224
        },
        "id": "e8L7xRPFgS2_",
        "outputId": "ab36f49b-eaa7-46a4-d4ac-49a886274092"
      },
      "outputs": [
        {
          "data": {
            "image/png": "[encoded data removed]",
            "text/plain": [
              "<Figure size 1500x1500 with 5 Axes>"
            ]
          },
          "metadata": {},
          "output_type": "display_data"
        }
      ],
      "source": [
        "show_images(data.imgs)"
      ]
    },
    {
      "cell_type": "code",
      "execution_count": null,
      "metadata": {
        "colab": {
          "base_uri": "https://localhost:8080/",
          "height": 224
        },
        "id": "KA88nmZzgHIR",
        "outputId": "ece0a56a-061b-4aea-bb6a-cbe14e3e5a07"
      },
      "outputs": [
        {
          "data": {
            "image/png": "[encoded data removed]",
            "text/plain": [
              "<Figure size 1500x1500 with 5 Axes>"
            ]
          },
          "metadata": {},
          "output_type": "display_data"
        }
      ],
      "source": [
        "show_images(horizontal_flip_dataset.imgs)"
      ]
    },
    {
      "cell_type": "code",
      "execution_count": null,
      "metadata": {
        "colab": {
          "base_uri": "https://localhost:8080/",
          "height": 224
        },
        "id": "5-EYSSoPgNYH",
        "outputId": "a70e2062-4380-4cde-9396-2e17f3b7ce36"
      },
      "outputs": [
        {
          "data": {
            "image/png": "[encoded data removed]",
            "text/plain": [
              "<Figure size 1500x1500 with 5 Axes>"
            ]
          },
          "metadata": {},
          "output_type": "display_data"
        }
      ],
      "source": [
        "show_images(grayscale_dataset.imgs)"
      ]
    },
    {
      "cell_type": "markdown",
      "source": [
        "We requested the API and got the seed 1661712, which gives us the best results"
      ],
      "metadata": {
        "id": "pxd4kIpAXQNK"
      }
    },
    {
      "cell_type": "code",
      "execution_count": null,
      "metadata": {
        "colab": {
          "base_uri": "https://localhost:8080/"
        },
        "id": "bAIV69a0pph2",
        "outputId": "03159617-d0d0-4320-ba16-3d4601a88b8c"
      },
      "outputs": [
        {
          "output_type": "stream",
          "name": "stdout",
          "text": [
            "{'seed': 1661712, 'port': '9060'}\n"
          ]
        }
      ],
      "source": [
        "### REQUESTING NEW API ###\n",
        "TOKEN = \"92593601\"\n",
        "\n",
        "response = requests.get(\"http://34.71.138.79:9090\" + \"/stealing_launch\", headers={\"token\": TOKEN})\n",
        "answer = response.json()\n",
        "\n",
        "print(answer)\n",
        "if 'detail' in answer:\n",
        "    sys.exit(1)\n",
        "\n",
        "# save the values\n",
        "SEED = str(answer['seed'])\n",
        "PORT = str(answer['port'])\n",
        "\n",
        "# SEED = \"1868949\"\n",
        "# PORT = \"9002\""
      ]
    },
    {
      "cell_type": "markdown",
      "metadata": {
        "id": "ys6J-Ayh3fm_"
      },
      "source": [
        "**Querying the API with the augmented dataset with horizontal flipping.**\n",
        "- Since the API can be queried with 1000 images at once, we start querying from 0-1000, 1000-2000 ..... 12000-13000. Since we're given the limit of 100 queries per API, we query the same set of images 7 times to the encoder, such that for 13 such sets of 1000 images (training data length is 13000), we get around 91 meaningful representation files.We query the same set of 1000 images 7 times, because we observe that the representations returned by the victim encoder are different even when same image is queried again. We believe that, this is because of the B4B defense used to protect the victim encoder. Please find the detailed reasoning for this in the README.md file added to the repository."
      ]
    },
    {
      "cell_type": "code",
      "execution_count": null,
      "metadata": {
        "id": "vciSmNY6pyCy"
      },
      "outputs": [],
      "source": [
        "# obtaining a set of 1000 images from the augmented dataset 1\n",
        "to_pil = ToPILImage()\n",
        "pil_images = [to_pil(img_tensor) for img_tensor in horizontal_flip_dataset.imgs]\n",
        "selected_pil_images = pil_images[0:1000]"
      ]
    },
    {
      "cell_type": "markdown",
      "source": [
        "We query the above block to obtain the set of 1000 images. Then, we execute the block below to obtain the representation file and store it. For this set of images, we execute the following block 7 times to obtain different representation files for the same set of images. After that, we again execute the block above to get a new set of 1000 images and repeat the same steps as mentioned."
      ],
      "metadata": {
        "id": "v3JY6J2GZlyU"
      }
    },
    {
      "cell_type": "code",
      "execution_count": null,
      "metadata": {
        "id": "WeUZjpWlp7Io"
      },
      "outputs": [],
      "source": [
        "### QUERYING THE API ###\n",
        "\n",
        "def model_stealing(images, port):\n",
        "    endpoint = \"/query\"\n",
        "    url = f\"http://34.71.138.79:{port}\" + endpoint\n",
        "    image_data = []\n",
        "    for img in images:\n",
        "        img_byte_arr = io.BytesIO()\n",
        "        img.save(img_byte_arr, format='PNG')\n",
        "        img_byte_arr.seek(0)\n",
        "        img_base64 = base64.b64encode(img_byte_arr.getvalue()).decode('utf-8')\n",
        "        image_data.append(img_base64)\n",
        "\n",
        "    payload = json.dumps(image_data)\n",
        "    response = requests.get(url, files={\"file\": payload}, headers={\"token\": \"92593601\"})\n",
        "    if response.status_code == 200:\n",
        "        representation = response.json()[\"representations\"]\n",
        "        return representation\n",
        "    else:\n",
        "        raise Exception(\n",
        "            f\"Model stealing failed. Code: {response.status_code}, content: {response.json()}\"\n",
        "        )\n",
        "\n",
        "out = model_stealing(selected_pil_images, port=\"9060\")"
      ]
    },
    {
      "cell_type": "markdown",
      "source": [
        "After executing the block below, we observe that the representations returned for the same set of images are different every time because the B4B defense applies different transformations to the actual representations of images and then sends it back to us."
      ],
      "metadata": {
        "id": "ONvebFrLalzF"
      }
    },
    {
      "cell_type": "code",
      "execution_count": null,
      "metadata": {
        "colab": {
          "base_uri": "https://localhost:8080/"
        },
        "id": "2_s6nGgsqN8v",
        "outputId": "d82ac196-1893-413e-f224-7fd5eda92e66"
      },
      "outputs": [
        {
          "output_type": "stream",
          "name": "stdout",
          "text": [
            "1000\n",
            "1024\n",
            "10463.9375 -6603.1865234375\n"
          ]
        }
      ],
      "source": [
        "# 1000 representations in a list\n",
        "print(len(out))\n",
        "\n",
        "# representation 1\n",
        "print(len(out[0]))\n",
        "\n",
        "# first element in the representation\n",
        "print(out[0][0], out[0][1])"
      ]
    },
    {
      "cell_type": "markdown",
      "source": [
        "We store all the representation files separately by executing the following block"
      ],
      "metadata": {
        "id": "xnrnNzS3gtHk"
      }
    },
    {
      "cell_type": "code",
      "execution_count": null,
      "metadata": {
        "colab": {
          "base_uri": "https://localhost:8080/"
        },
        "id": "EdG7GsPHsAmA",
        "outputId": "f8caf615-9892-49e1-ca4d-e25e806d9a96"
      },
      "outputs": [
        {
          "output_type": "stream",
          "name": "stdout",
          "text": [
            "1000\n"
          ]
        }
      ],
      "source": [
        "# Store the output in a file.\n",
        "with open('exp8_5.pickle', 'wb') as handle:\n",
        "    pickle.dump(out, handle, protocol=pickle.HIGHEST_PROTOCOL)\n",
        "\n",
        "# Restore the output from the file.\n",
        "with open('exp8_5.pickle', 'rb') as handle:\n",
        "    out = pickle.load(handle)\n",
        "\n",
        "print(len(out))"
      ]
    },
    {
      "cell_type": "markdown",
      "source": [
        "To get closer to the actual representations, we try averaging all the 7 representations obtained for an image and store them. For an example, in the block below, we take set 8 covering images 7000-8000 in the dataset, get the following representations from the above blocks and then use them all here to find an averaged representation for this set and similarly for other 12 sets."
      ],
      "metadata": {
        "id": "eN5MtlxVbDV7"
      }
    },
    {
      "cell_type": "code",
      "source": [
        "file_paths = [\"/content/exp8_1.pickle\", \"/content/exp8_2.pickle\", \"/content/exp8_3.pickle\",\n",
        "              \"/content/exp8_4.pickle\", \"/content/exp8_5.pickle\", \"/content/exp8_6.pickle\",\n",
        "              \"/content/exp8_7.pickle\"]\n",
        "\n",
        "all_representations_8 = []\n",
        "\n",
        "for file_path in file_paths:\n",
        "    with open(file_path, 'rb') as f:\n",
        "        representations = pickle.load(f)\n",
        "        all_representations_8.append(representations)\n",
        "\n",
        "all_representations = np.array(all_representations_8)\n",
        "\n",
        "# Calculate the average representation across all the 7 queries\n",
        "average_representations = np.mean(all_representations, axis=0)\n",
        "print(len(average_representations))\n",
        "print(len(average_representations[0]))\n",
        "print(average_representations[0])\n",
        "\n",
        "# Store the average representation\n",
        "with open('average_representations_8.pickle', 'wb') as f:\n",
        "    pickle.dump(average_representations, f)"
      ],
      "metadata": {
        "colab": {
          "base_uri": "https://localhost:8080/"
        },
        "id": "-uTq-uPXu2bz",
        "outputId": "ad6e5b38-3069-4447-a357-2199df2b81bf"
      },
      "execution_count": null,
      "outputs": [
        {
          "output_type": "stream",
          "name": "stdout",
          "text": [
            "1000\n",
            "1024\n",
            "[   835.28929029   -653.25876508  -1898.42248099 ...   3078.98181588\n",
            "  -4348.10183825 -13824.10092163]\n"
          ]
        }
      ]
    },
    {
      "cell_type": "markdown",
      "source": [
        "We now combine all the averaged representation files obtained for every set of 1000 images (13 such sets) and store it"
      ],
      "metadata": {
        "id": "X7EN2JX4c4PY"
      }
    },
    {
      "cell_type": "code",
      "source": [
        "victim_representations = []\n",
        "\n",
        "for i in range(1, 14):\n",
        "    with open(f'/content/average_representations_{i}.pickle', 'rb') as handle:\n",
        "        victim_representations.extend(pickle.load(handle))"
      ],
      "metadata": {
        "id": "ToSUs0PFRsjL"
      },
      "execution_count": null,
      "outputs": []
    },
    {
      "cell_type": "markdown",
      "source": [
        "We store the file combined_all_representations.pickle with all representations of 13000 images. This file can be accessed using the drive link provided."
      ],
      "metadata": {
        "id": "ZKzRXLU4hjJV"
      }
    },
    {
      "cell_type": "code",
      "source": [
        "with open('combined_all_representations.pickle', 'wb') as handle:\n",
        "    pickle.dump(victim_representations, handle, protocol=pickle.HIGHEST_PROTOCOL)"
      ],
      "metadata": {
        "id": "zNXXK9WcRlTB"
      },
      "execution_count": null,
      "outputs": []
    },
    {
      "cell_type": "markdown",
      "metadata": {
        "id": "dLY8Rwfi03pR"
      },
      "source": [
        "Defining the stolen model's architecture and an instance of the Stolen Encoder"
      ]
    },
    {
      "cell_type": "code",
      "execution_count": null,
      "metadata": {
        "id": "ktS7sAeAsHuO"
      },
      "outputs": [],
      "source": [
        "class StolenEncoder(nn.Module):\n",
        "    def __init__(self, input_channels, input_height, input_width):\n",
        "        super(StolenEncoder, self).__init__()\n",
        "        self.input_channels = input_channels\n",
        "        self.input_height = input_height\n",
        "        self.input_width = input_width\n",
        "\n",
        "        self.encoder = nn.Sequential(\n",
        "            nn.Conv2d(3, 64, kernel_size=3, stride=1, padding=1),\n",
        "            nn.ReLU(),\n",
        "            nn.MaxPool2d(kernel_size=2, stride=2),\n",
        "            nn.Conv2d(64, 128, kernel_size=3, stride=1, padding=1),\n",
        "            nn.ReLU(),\n",
        "            nn.MaxPool2d(kernel_size=2, stride=2),\n",
        "            nn.Flatten(),\n",
        "            nn.Linear(128 * (input_height // 4) * (input_width // 4), 1024)\n",
        "        )\n",
        "\n",
        "    def forward(self, x):\n",
        "        return self.encoder(x)"
      ]
    },
    {
      "cell_type": "code",
      "execution_count": 55,
      "metadata": {
        "id": "F6JCBe8Vsi6C"
      },
      "outputs": [],
      "source": [
        "input_channels = 3\n",
        "input_height = 32\n",
        "input_width = 32\n",
        "\n",
        "model = StolenEncoder(input_channels, input_height, input_width).to(device)"
      ]
    },
    {
      "cell_type": "code",
      "execution_count": null,
      "metadata": {
        "id": "eUzEpoE6tGKE"
      },
      "outputs": [],
      "source": [
        "victim_representations = torch.tensor(victim_representations).to(device)"
      ]
    },
    {
      "cell_type": "code",
      "execution_count": null,
      "metadata": {
        "id": "XvlCMUvu1dge"
      },
      "outputs": [],
      "source": [
        "# converting images from augmented set 2 (grayscale) to PIL format to make them compatible for training the stolen encoder\n",
        "\n",
        "to_pil = ToPILImage()\n",
        "\n",
        "def convert_to_pil(grayscale_image_tensors):\n",
        "    return [to_pil(img) for img in grayscale_image_tensors]\n",
        "\n",
        "grayscale_image_tensors = [grayscale_dataset.imgs[idx] for idx in range(len(grayscale_dataset))]\n",
        "grayscale_dataset.imgs = convert_to_pil(grayscale_image_tensors)"
      ]
    },
    {
      "cell_type": "markdown",
      "metadata": {
        "id": "TVUXfQBR1Zlk"
      },
      "source": [
        "**Training the stolen encoder and minimizing the loss between stolen and victim encoder's representations**.\n",
        "- In the block below, **shuffle** is set to **False** to ensure that the mapping of victim and stolen encoder's representations remains intact."
      ]
    },
    {
      "cell_type": "code",
      "execution_count": null,
      "metadata": {
        "id": "1eZXftCXxYzt"
      },
      "outputs": [],
      "source": [
        "flip_data_loader = DataLoader(horizontal_flip_dataset, batch_size=64, shuffle=False)\n",
        "grayscale_data_loader = DataLoader(grayscale_dataset, batch_size=64, shuffle=False)"
      ]
    },
    {
      "cell_type": "code",
      "execution_count": null,
      "metadata": {
        "id": "kZbIydgsx1X8"
      },
      "outputs": [],
      "source": [
        "optimizer = optim.Adam(model.parameters(), lr=0.001)\n",
        "criterion = nn.MSELoss()\n",
        "\n",
        "epochs = 30\n",
        "for epoch in range(epochs):\n",
        "    for i, (batch_ids, batch_images, batch_labels) in enumerate(grayscale_data_loader):\n",
        "        batch_images = [(img.repeat(3, 1, 1) if img.size(0) == 1 else img) for img in batch_images]\n",
        "        batch_images = torch.stack(batch_images).to(device)\n",
        "\n",
        "        batch_size = batch_images.size(0)\n",
        "        start_idx = i * grayscale_data_loader.batch_size\n",
        "        end_idx = start_idx + batch_size\n",
        "\n",
        "        if i + 1 > 62:\n",
        "            continue\n",
        "\n",
        "        batch_victim_reps = batch_victim_reps.float().to(device)\n",
        "\n",
        "        stolen_reps = model(batch_images)\n",
        "        loss = criterion(stolen_reps, batch_victim_reps)\n",
        "\n",
        "        optimizer.zero_grad()\n",
        "        loss.backward()\n",
        "        optimizer.step()\n",
        "\n",
        "        print(f\"Epoch [{epoch+1}/{epochs}], Batch [{i+1}], Loss: {loss.item():.4f}\")\n",
        "\n",
        "torch.save(model, 'stolen_encoder.pth')"
      ]
    },
    {
      "cell_type": "code",
      "execution_count": null,
      "metadata": {
        "id": "Lf-SZCjB0QOR"
      },
      "outputs": [],
      "source": [
        "#### SUBMISSION ####\n",
        "\n",
        "# exporting the stolen encoder to the onnx format\n",
        "\n",
        "path = '/content/dummy_submission4.onnx'\n",
        "\n",
        "torch.onnx.export(\n",
        "    model,\n",
        "    torch.randn(1, 3, 32, 32).to(device),\n",
        "    path,\n",
        "    export_params=True,\n",
        "    input_names=[\"x\"],\n",
        ")\n",
        "\n",
        "#### Tests ####\n",
        "\n",
        "# (these are being ran on the eval endpoint for every submission)\n",
        "with open(path, \"rb\") as f:\n",
        "    model = f.read()\n",
        "    try:\n",
        "        stolen_model = ort.InferenceSession(model)\n",
        "    except Exception as e:\n",
        "        raise Exception(f\"Invalid model, {e=}\")\n",
        "    try:\n",
        "        out = stolen_model.run(\n",
        "            None, {\"x\": np.random.randn(1, 3, 32, 32).astype(np.float32)}\n",
        "        )[0][0]\n",
        "    except Exception as e:\n",
        "        raise Exception(f\"Some issue with the input, {e=}\")\n",
        "    assert out.shape == (1024,), \"Invalid output shape\"\n",
        "\n",
        "# Send the model to the server\n",
        "response = requests.post(\"http://34.71.138.79:9090/stealing\", files={\"file\": open(path, \"rb\")}, headers={\"token\": \"92593601\", \"seed\": \"1661712\"})\n",
        "print(response.json())"
      ]
    }
  ],
  "metadata": {
    "accelerator": "GPU",
    "colab": {
      "gpuType": "T4",
      "provenance": []
    },
    "kernelspec": {
      "display_name": "Python 3",
      "name": "python3"
    },
    "language_info": {
      "name": "python"
    }
  },
  "nbformat": 4,
  "nbformat_minor": 0
}